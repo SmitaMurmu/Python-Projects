{
 "cells": [
  {
   "cell_type": "code",
   "execution_count": 4,
   "metadata": {},
   "outputs": [],
   "source": [
    "Employee=[{'Emp_Id':'12345','Emp_Name':'Smita','Email':'smita@abc.com'},\n",
    "          {'Emp_Id':'12346','Emp_Name':'Swati','Email':'Swati@abc.com'},\n",
    "          {'Emp_Id':'12347','Emp_Name':'Suchita','Email':'Suchita@abc.com'}]"
   ]
  },
  {
   "cell_type": "code",
   "execution_count": 5,
   "metadata": {},
   "outputs": [],
   "source": [
    "    \n",
    "def user_action(user_choice):\n",
    "    \n",
    "    #Insert Into table\n",
    "    if user_choice == 1:\n",
    "            Emp_Id= input('Please Enter Emp_Id: ')\n",
    "            Emp_Name = input('Please Enter Employee Name: ')\n",
    "            Email = input('Please enter valid Email Id:')\n",
    "            Employee.append(dict(Emp_Id=Emp_Id,Emp_Name=Emp_Name,Email=Email))  \n",
    "            \n",
    "            print(f\"Successfuly New Record Inserted===> {Employee[len(Employee)-1]} \")\n",
    "\n",
    "    #Update Tbale\n",
    "    if user_choice == 2:\n",
    "        user_input= input('Enter the Employee id for which you want to update the details:')\n",
    "        \n",
    "        for i in range(0,len(Employee)):\n",
    "            \n",
    "            if (Employee[i][\"Emp_Id\"]) == user_input:\n",
    "                \n",
    "                emp_name_update=input('New updated Employee name ')\n",
    "                email_update = input('New updated Email') \n",
    "                (Employee[i][\"Emp_Name\"]) = emp_name_update\n",
    "                (Employee[i][\"Email\"]) = email_update\n",
    "                print(f'Emp_Name for Emp_id {user_input} is updated to ===> {(Employee[i][\"Emp_Name\"])}')\n",
    "                print(f'Email for Emp_id {user_input} is updated to ===> {(Employee[i][\"Email\"])}')\n",
    "    \n",
    "    #select complete table                  \n",
    "    if user_choice == 3:\n",
    "        print(Employee)\n",
    "                      \n",
    "    \n",
    "    #select specific emp id from table                  \n",
    "    if user_choice == 4:\n",
    "        user_input_4= input('Enter the Employee id for which you want to select the employee details:')  \n",
    "        for i in range(0,len(Employee)):\n",
    "            if (Employee[i][\"Emp_Id\"]) == user_input_4:\n",
    "                print(Employee[i])\n",
    "    \n",
    "    #delete from table\n",
    "    if user_choice == 5:\n",
    "        user_input_5= input('Enter the Employee id to :') \n",
    "                      \n",
    "        for i in Employee[:]:  \n",
    "            if (i[\"Emp_Id\"]) == user_input_5:\n",
    "                Employee.remove(i)\n",
    "                print(f'Record Successfuly Deleted  ===> {i}')\n",
    "  \n",
    "    #quit\n",
    "    if user_choice == 6:\n",
    "        print('**Exited**')\n",
    "        exit()\n",
    "        \n",
    " "
   ]
  },
  {
   "cell_type": "code",
   "execution_count": 6,
   "metadata": {},
   "outputs": [
    {
     "data": {
      "text/plain": [
       "[{'Emp_Id': '12345', 'Emp_Name': 'Smita', 'Email': 'smita@abc.com'},\n",
       " {'Emp_Id': '12346', 'Emp_Name': 'Swati', 'Email': 'Swati@abc.com'},\n",
       " {'Emp_Id': '12347', 'Emp_Name': 'Suchita', 'Email': 'Suchita@abc.com'}]"
      ]
     },
     "execution_count": 6,
     "metadata": {},
     "output_type": "execute_result"
    }
   ],
   "source": [
    "Employee"
   ]
  },
  {
   "cell_type": "code",
   "execution_count": 7,
   "metadata": {},
   "outputs": [],
   "source": [
    "def emp_table_action_menu():\n",
    "    print('=========================Menu==================================')\n",
    "    print('Press 1 to insert into Employee Table \\nPress 2 to Update into Employee Table \\nPress 3 to select from Employee Table \\nPress 4 to select from Employee Table a specific emp id\\nPress 5 to delete from Employee Table\\nPress 6 to exit into Employee Table')\n",
    "    print('================================================================')\n",
    "    user_choice=int(input('Enter Your Choice ---> '))\n",
    "    #print(user_choice)\n",
    "    user_action(user_choice)\n",
    "        #employee Dict"
   ]
  },
  {
   "cell_type": "code",
   "execution_count": 8,
   "metadata": {},
   "outputs": [
    {
     "name": "stdout",
     "output_type": "stream",
     "text": [
      "=========================Menu==================================\n",
      "Press 1 to insert into Employee Table \n",
      "Press 2 to Update into Employee Table \n",
      "Press 3 to select from Employee Table \n",
      "Press 4 to select from Employee Table a specific emp id\n",
      "Press 5 to delete from Employee Table\n",
      "Press 6 to exit into Employee Table\n",
      "================================================================\n",
      "Enter Your Choice ---> 6\n",
      "**Exited**\n"
     ]
    }
   ],
   "source": [
    "emp_table_action_menu()"
   ]
  },
  {
   "cell_type": "code",
   "execution_count": 86,
   "metadata": {},
   "outputs": [
    {
     "data": {
      "text/plain": [
       "[{'Emp_Id': '12346', 'Emp_Name': 'Swati', 'Email': 'Swati@abc.com'},\n",
       " {'Emp_Id': '12347', 'Emp_Name': 'Suchita', 'Email': 'Suchita@abc.com'}]"
      ]
     },
     "execution_count": 86,
     "metadata": {},
     "output_type": "execute_result"
    }
   ],
   "source": [
    "Employee"
   ]
  },
  {
   "cell_type": "code",
   "execution_count": 85,
   "metadata": {},
   "outputs": [
    {
     "name": "stdout",
     "output_type": "stream",
     "text": [
      "Enter the Employee id for which you want to select the employee details:12345\n",
      "{'Emp_Id': '12345', 'Emp_Name': 'Smita', 'Email': 'smita@abc.com'}\n",
      "{'Emp_Id': '12346', 'Emp_Name': 'Swati', 'Email': 'Swati@abc.com'}\n",
      "{'Emp_Id': '12347', 'Emp_Name': 'Suchita', 'Email': 'Suchita@abc.com'}\n"
     ]
    }
   ],
   "source": [
    "user_choice =5\n",
    "if user_choice == 5:\n",
    "    user_input_5= input('Enter the Employee id for which you want to select the employee details:')  \n",
    "    for i in Employee[:]:  \n",
    "        print(i)\n",
    "        if (i[\"Emp_Id\"]) == user_input_5:\n",
    "            Employee.remove(i)"
   ]
  },
  {
   "cell_type": "code",
   "execution_count": null,
   "metadata": {},
   "outputs": [],
   "source": []
  }
 ],
 "metadata": {
  "kernelspec": {
   "display_name": "Python 3",
   "language": "python",
   "name": "python3"
  },
  "language_info": {
   "codemirror_mode": {
    "name": "ipython",
    "version": 3
   },
   "file_extension": ".py",
   "mimetype": "text/x-python",
   "name": "python",
   "nbconvert_exporter": "python",
   "pygments_lexer": "ipython3",
   "version": "3.7.4"
  }
 },
 "nbformat": 4,
 "nbformat_minor": 2
}
