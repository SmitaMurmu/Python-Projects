{
 "cells": [
  {
   "cell_type": "code",
   "execution_count": 7,
   "metadata": {},
   "outputs": [
    {
     "name": "stdout",
     "output_type": "stream",
     "text": [
      "Enter any string: Smita\n",
      "atimS\n"
     ]
    }
   ],
   "source": [
    "string_input = input('Enter any string: ')\n",
    "print(string_input[::-1])\n"
   ]
  },
  {
   "cell_type": "code",
   "execution_count": 6,
   "metadata": {},
   "outputs": [
    {
     "name": "stdout",
     "output_type": "stream",
     "text": [
      "atims\n"
     ]
    }
   ],
   "source": [
    "print(string_input[::-1])"
   ]
  },
  {
   "cell_type": "code",
   "execution_count": 12,
   "metadata": {},
   "outputs": [
    {
     "name": "stdout",
     "output_type": "stream",
     "text": [
      "Enter Number between 1 to 100: 5\n",
      "Total of 1 to 5 is 15\n"
     ]
    }
   ],
   "source": [
    "user_input = int(input('Enter Number between 1 to 100: '))\n",
    "total = 0\n",
    "for num in range(1,user_input+1):\n",
    "        total += num\n",
    "print('Total of 1 to {} is {}'.format(user_input,total))\n",
    "    "
   ]
  },
  {
   "cell_type": "code",
   "execution_count": 13,
   "metadata": {},
   "outputs": [
    {
     "name": "stdout",
     "output_type": "stream",
     "text": [
      "please enter number having more than 1 digit: 123\n",
      "6\n"
     ]
    }
   ],
   "source": [
    "num_input = (input('please enter number having more than 1 digit: '))\n",
    "total = 0 \n",
    "for num in num_input:\n",
    "    total+= int(num)\n",
    "print(total)\n"
   ]
  },
  {
   "cell_type": "code",
   "execution_count": 76,
   "metadata": {},
   "outputs": [
    {
     "name": "stdout",
     "output_type": "stream",
     "text": [
      "Enter any string:Smita Murmu\n"
     ]
    }
   ],
   "source": [
    "name_input = input('Enter any string:').lower()\n"
   ]
  },
  {
   "cell_type": "code",
   "execution_count": null,
   "metadata": {},
   "outputs": [],
   "source": []
  },
  {
   "cell_type": "code",
   "execution_count": 78,
   "metadata": {},
   "outputs": [
    {
     "name": "stdout",
     "output_type": "stream",
     "text": [
      "Enter any string:Smita Murmu\n",
      "a 1\n",
      "i 1\n",
      "m 3\n",
      "r 1\n",
      "s 1\n",
      "t 1\n",
      "u 2\n"
     ]
    }
   ],
   "source": [
    "name_input = input('Enter any string:').lower()\n",
    "\n",
    "import string\n",
    "for letter in  string.ascii_lowercase :\n",
    "    if  letter in name_input:\n",
    "        print(letter,name_input.count(letter))"
   ]
  },
  {
   "cell_type": "code",
   "execution_count": 72,
   "metadata": {},
   "outputs": [
    {
     "ename": "IndentationError",
     "evalue": "expected an indented block (<ipython-input-72-91bba1fd67fa>, line 7)",
     "output_type": "error",
     "traceback": [
      "\u001b[1;36m  File \u001b[1;32m\"<ipython-input-72-91bba1fd67fa>\"\u001b[1;36m, line \u001b[1;32m7\u001b[0m\n\u001b[1;33m    print(word.count(Alphabet[i]))\u001b[0m\n\u001b[1;37m        ^\u001b[0m\n\u001b[1;31mIndentationError\u001b[0m\u001b[1;31m:\u001b[0m expected an indented block\n"
     ]
    }
   ],
   "source": []
  },
  {
   "cell_type": "code",
   "execution_count": 80,
   "metadata": {},
   "outputs": [
    {
     "name": "stdout",
     "output_type": "stream",
     "text": [
      "please enter number having more than 1 digit: 365\n",
      "14\n"
     ]
    }
   ],
   "source": [
    "num_input = (input('please enter number having more than 1 digit: '))\n",
    "total = 0 \n",
    "for num in num_input:\n",
    "    total+= int(num)\n",
    "print(total)"
   ]
  },
  {
   "cell_type": "code",
   "execution_count": 98,
   "metadata": {},
   "outputs": [
    {
     "name": "stdout",
     "output_type": "stream",
     "text": [
      "Enter any string:Smita Murmu\n",
      "{'s': 1, 'm': 3, 'i': 1, 't': 1, 'a': 1, 'u': 2, 'r': 1}\n"
     ]
    }
   ],
   "source": [
    "name_input = input('Enter any string:').lower()\n",
    "\n",
    "counter_dict={}\n",
    "name_input_without_space=name_input.replace(' ','')\n",
    "for letter in  name_input_without_space :\n",
    "    if letter in counter_dict:\n",
    "        counter_dict[letter] +=1\n",
    "    else:\n",
    "        counter_dict[letter] = 1\n",
    "print(counter_dict)"
   ]
  },
  {
   "cell_type": "code",
   "execution_count": 117,
   "metadata": {},
   "outputs": [
    {
     "data": {
      "text/plain": [
       "'adgjmpsvy'"
      ]
     },
     "execution_count": 117,
     "metadata": {},
     "output_type": "execute_result"
    }
   ],
   "source": [
    "string.ascii_lowercase[::3]"
   ]
  }
 ],
 "metadata": {
  "kernelspec": {
   "display_name": "Python 3",
   "language": "python",
   "name": "python3"
  },
  "language_info": {
   "codemirror_mode": {
    "name": "ipython",
    "version": 3
   },
   "file_extension": ".py",
   "mimetype": "text/x-python",
   "name": "python",
   "nbconvert_exporter": "python",
   "pygments_lexer": "ipython3",
   "version": "3.7.4"
  }
 },
 "nbformat": 4,
 "nbformat_minor": 2
}
