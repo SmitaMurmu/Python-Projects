{
 "cells": [
  {
   "cell_type": "code",
   "execution_count": 94,
   "metadata": {},
   "outputs": [],
   "source": [
    "from IPython.display import clear_output\n",
    "\n",
    "def display_board(board):\n",
    "    clear_output()\n",
    "    print('   |   |   ')\n",
    "    print(f'{board[7] }  |{board[8]}  |{board[9]}  ')\n",
    "    print('   |   |   ')\n",
    "    print('---+---+---')\n",
    "    print('   |   |   ')\n",
    "    print(f'{board[4] }  |{board[5]}  |{board[6]}  ')\n",
    "    print('   |   |   ')\n",
    "    print('---+---+---')\n",
    "    print('   |   |   ')\n",
    "    print(f'{board[1] }  |{board[2]}  |{board[3]}  ')\n",
    "    print('   |   |   ')\n",
    "     \n",
    "    \n",
    "    "
   ]
  },
  {
   "cell_type": "code",
   "execution_count": 2,
   "metadata": {},
   "outputs": [
    {
     "name": "stdout",
     "output_type": "stream",
     "text": [
      "   |   |   \n",
      "O  |X  |O  \n",
      "   |   |   \n",
      "---+---+---\n",
      "   |   |   \n",
      "O  |X  |X  \n",
      "   |   |   \n",
      "---+---+---\n",
      "   |   |   \n",
      "   |O  |X  \n",
      "   |   |   \n"
     ]
    }
   ],
   "source": [
    "board =[0,' ','O','X','O','X','X','O','X','O']\n",
    "display_board(board)"
   ]
  },
  {
   "cell_type": "code",
   "execution_count": 3,
   "metadata": {},
   "outputs": [],
   "source": [
    "def player():\n",
    "    marker = input('Player 1 , what do you choose beetween X and O?')\n",
    "    \n",
    "    if marker.lower() == 'X':\n",
    "        return('X','O')\n",
    "    else:\n",
    "        return ('O','X')"
   ]
  },
  {
   "cell_type": "code",
   "execution_count": 37,
   "metadata": {},
   "outputs": [
    {
     "name": "stdout",
     "output_type": "stream",
     "text": [
      "Player 1 , what do you choose beetween X and O?X\n"
     ]
    }
   ],
   "source": [
    "s,v=player()"
   ]
  },
  {
   "cell_type": "code",
   "execution_count": 38,
   "metadata": {},
   "outputs": [
    {
     "data": {
      "text/plain": [
       "'O'"
      ]
     },
     "execution_count": 38,
     "metadata": {},
     "output_type": "execute_result"
    }
   ],
   "source": [
    "s"
   ]
  },
  {
   "cell_type": "code",
   "execution_count": 6,
   "metadata": {},
   "outputs": [],
   "source": [
    "def place_marker(board, marker, position):\n",
    "    board[position] = marker"
   ]
  },
  {
   "cell_type": "code",
   "execution_count": 39,
   "metadata": {},
   "outputs": [],
   "source": [
    "place_marker(board,s,1)"
   ]
  },
  {
   "cell_type": "code",
   "execution_count": 40,
   "metadata": {},
   "outputs": [
    {
     "name": "stdout",
     "output_type": "stream",
     "text": [
      "   |   |   \n",
      "   |   |   \n",
      "   |   |   \n",
      "---+---+---\n",
      "   |   |   \n",
      "X  |O  |   \n",
      "   |   |   \n",
      "---+---+---\n",
      "   |   |   \n",
      "O  |   |   \n",
      "   |   |   \n"
     ]
    }
   ],
   "source": [
    "place_marker(board,s,5)\n",
    "display_board(board)\n"
   ]
  },
  {
   "cell_type": "code",
   "execution_count": 8,
   "metadata": {},
   "outputs": [],
   "source": [
    "def win_check(board, mark):\n",
    "    return ((board[7]== board[8]==board[9]==mark) or\n",
    "    (board[4]== board[5]==board[6]==mark) or\n",
    "    (board[1]== board[2]==board[3]==mark) or\n",
    "    (board[7]== board[5]==board[3]==mark) or\n",
    "    (board[1]== board[5]==board[9]==mark) or\n",
    "    (board[7]== board[3]==board[1]==mark) or\n",
    "    (board[8]== board[5]==board[2]==mark) or\n",
    "    (board[9]== board[6]==board[3]==mark) )"
   ]
  },
  {
   "cell_type": "code",
   "execution_count": 9,
   "metadata": {},
   "outputs": [
    {
     "data": {
      "text/plain": [
       "True"
      ]
     },
     "execution_count": 9,
     "metadata": {},
     "output_type": "execute_result"
    }
   ],
   "source": [
    "win_check(board, 'X')"
   ]
  },
  {
   "cell_type": "code",
   "execution_count": 10,
   "metadata": {},
   "outputs": [],
   "source": [
    "import random\n",
    "\n",
    "def choose_first():\n",
    "    if random.randint(1,2) == 1:\n",
    "        return 'Player 1'\n",
    "    else:\n",
    "        return 'Player 2'"
   ]
  },
  {
   "cell_type": "code",
   "execution_count": 11,
   "metadata": {},
   "outputs": [
    {
     "data": {
      "text/plain": [
       "'Player 2'"
      ]
     },
     "execution_count": 11,
     "metadata": {},
     "output_type": "execute_result"
    }
   ],
   "source": [
    "choose_first()"
   ]
  },
  {
   "cell_type": "code",
   "execution_count": 80,
   "metadata": {},
   "outputs": [],
   "source": [
    "def space_check(board, position):\n",
    "    return board[position] == ' '"
   ]
  },
  {
   "cell_type": "code",
   "execution_count": 81,
   "metadata": {},
   "outputs": [
    {
     "data": {
      "text/plain": [
       "False"
      ]
     },
     "execution_count": 81,
     "metadata": {},
     "output_type": "execute_result"
    }
   ],
   "source": [
    "space_check(board,1)"
   ]
  },
  {
   "cell_type": "code",
   "execution_count": 89,
   "metadata": {},
   "outputs": [],
   "source": [
    "def full_board_check(board):\n",
    "    for i in range(1,10):\n",
    "        if space_check(board, i):\n",
    "            return False\n",
    "    return True\n",
    "        "
   ]
  },
  {
   "cell_type": "code",
   "execution_count": 91,
   "metadata": {},
   "outputs": [
    {
     "data": {
      "text/plain": [
       "False"
      ]
     },
     "execution_count": 91,
     "metadata": {},
     "output_type": "execute_result"
    }
   ],
   "source": [
    "full_board_check(board)"
   ]
  },
  {
   "cell_type": "code",
   "execution_count": 52,
   "metadata": {},
   "outputs": [],
   "source": [
    "def player_choice(board):\n",
    "    position =0\n",
    "  \n",
    "    if not space_check(board, position) or position not in [1,2,3,4,5,6,7,8,9]:\n",
    "        return int(input('Enter your mark between position 1 to 9: '))\n",
    "        \n",
    "    "
   ]
  },
  {
   "cell_type": "code",
   "execution_count": 53,
   "metadata": {},
   "outputs": [
    {
     "name": "stdout",
     "output_type": "stream",
     "text": [
      "Enter your mark between position 1 to 9: 1\n"
     ]
    },
    {
     "data": {
      "text/plain": [
       "1"
      ]
     },
     "execution_count": 53,
     "metadata": {},
     "output_type": "execute_result"
    }
   ],
   "source": [
    "player_choice(board)"
   ]
  },
  {
   "cell_type": "code",
   "execution_count": 54,
   "metadata": {},
   "outputs": [],
   "source": [
    "def replay():\n",
    "    ask = input('Do you want to replay?Yes/No: ')\n",
    "    if ask.lower()=='yes':\n",
    "        return True"
   ]
  },
  {
   "cell_type": "code",
   "execution_count": 55,
   "metadata": {},
   "outputs": [
    {
     "name": "stdout",
     "output_type": "stream",
     "text": [
      "Do you want to replay?Yes/No: \n"
     ]
    }
   ],
   "source": [
    "replay()"
   ]
  },
  {
   "cell_type": "code",
   "execution_count": 56,
   "metadata": {},
   "outputs": [
    {
     "name": "stdout",
     "output_type": "stream",
     "text": [
      "Welcome to Tic Tac Toe!\n"
     ]
    }
   ],
   "source": [
    "print('Welcome to Tic Tac Toe!')"
   ]
  },
  {
   "cell_type": "code",
   "execution_count": 95,
   "metadata": {},
   "outputs": [
    {
     "name": "stdout",
     "output_type": "stream",
     "text": [
      "   |   |   \n",
      "X  |   |   \n",
      "   |   |   \n",
      "---+---+---\n",
      "   |   |   \n",
      "O  |X  |O  \n",
      "   |   |   \n",
      "---+---+---\n",
      "   |   |   \n",
      "X  |O  |X  \n",
      "   |   |   \n",
      "Congratulations Player2..!! You won.\n"
     ]
    }
   ],
   "source": [
    "board = [' ']*10\n",
    "#display_board(board)\n",
    "pmarker1,pmarker2=player()\n",
    "turn=choose_first()\n",
    "#turn='Player 1'\n",
    "print(f'{turn} Will go first..!!')\n",
    "   \n",
    "    \n",
    "play_game = input('Are you ready to play? Enter Yes or No.')\n",
    "    \n",
    "if play_game.lower()[0] == 'y':\n",
    "    game_on = True\n",
    "else:\n",
    "    game_on = False\n",
    "    \n",
    "while game_on:\n",
    "    if turn == 'Player 1':\n",
    "        display_board(board)\n",
    "        position1= player_choice(board)\n",
    "        place_marker(board, pmarker1, position1) \n",
    "    \n",
    "        if win_check(board,pmarker1):\n",
    "            display_board(board)\n",
    "            print ('Congratulations Player1..!! You won.')\n",
    "            game_on = False\n",
    "        else:\n",
    "            if  full_board_check(board):\n",
    "                display_board(board)\n",
    "                print('The game is a draw!')\n",
    "                break\n",
    "            else:\n",
    "                turn = 'Player 2'\n",
    "        \n",
    "    else :\n",
    "        display_board(board)\n",
    "        position2= player_choice(board)\n",
    "        place_marker(board, pmarker2, position2) \n",
    "    \n",
    "        if win_check(board,pmarker2):\n",
    "            display_board(board)\n",
    "            print ('Congratulations Player2..!! You won.')\n",
    "            game_on = False\n",
    "        else:\n",
    "            if  full_board_check(board):\n",
    "                display_board(board)\n",
    "                print('The game is a draw!')\n",
    "                break\n",
    "            else:\n",
    "                turn = 'Player 1'"
   ]
  }
 ],
 "metadata": {
  "kernelspec": {
   "display_name": "Python 3",
   "language": "python",
   "name": "python3"
  },
  "language_info": {
   "codemirror_mode": {
    "name": "ipython",
    "version": 3
   },
   "file_extension": ".py",
   "mimetype": "text/x-python",
   "name": "python",
   "nbconvert_exporter": "python",
   "pygments_lexer": "ipython3",
   "version": "3.7.4"
  }
 },
 "nbformat": 4,
 "nbformat_minor": 2
}
